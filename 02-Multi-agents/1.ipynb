{
 "cells": [
  {
   "cell_type": "code",
   "execution_count": null,
   "metadata": {},
   "outputs": [],
   "source": [
    "%pip install -r requirements.txt"
   ]
  },
  {
   "cell_type": "code",
   "execution_count": 1,
   "metadata": {},
   "outputs": [],
   "source": [
    "import warnings\n",
    "warnings.filterwarnings('ignore')"
   ]
  },
  {
   "cell_type": "code",
   "execution_count": 2,
   "metadata": {},
   "outputs": [],
   "source": [
    "from crewai import Agent, Task, Crew"
   ]
  },
  {
   "cell_type": "code",
   "execution_count": 5,
   "metadata": {},
   "outputs": [],
   "source": [
    "import os\n",
    "from utils import get_openai_api_key\n",
    "\n",
    "openai_api_key = get_openai_api_key()\n",
    "os.environ[\"OPENAI_MODEL_NAME\"] = 'gpt-3.5-turbo'"
   ]
  },
  {
   "cell_type": "code",
   "execution_count": 6,
   "metadata": {},
   "outputs": [],
   "source": [
    "support_agent = Agent(\n",
    "    role=\"Senior Support Representative\",\n",
    "    goal=\"Be the most friendly and helpful support representative in your team.\",\n",
    "    backstory=(\n",
    "        \"You work at crewAI (https://crewai.com) and are now working on providing support to {customer}, a super\"\n",
    "        \"customer for your company.\"\n",
    "        \"You need to make sure that you provide the best support!\"\n",
    "        \"Make sure to provide full complete answers and make no assumptions.\"\n",
    "    ),\n",
    "    allow_delegation=False,\n",
    "    verbose=True\n",
    ")"
   ]
  },
  {
   "cell_type": "code",
   "execution_count": 7,
   "metadata": {},
   "outputs": [],
   "source": [
    "support_quality_assurance_agent = Agent(\n",
    "    role=\"Support Quality Assurance Specialist\",\n",
    "    goal=\"Get recognition for providing the best support quality assurance in your team.\",\n",
    "    backstory=(\n",
    "        \"You work at crewAI (https://crewai.com) and are now working with your team on a request from {customer} \"\n",
    "        \"ensuring that the support representative is providing the best support possible.\\n\"\n",
    "        \"You need to make sure that the support representative is providing full complete answers and make no assumptions.\"\n",
    "    ),\n",
    "    # allow_delegation=True, true by default.\n",
    "    verbose=True\n",
    ")"
   ]
  },
  {
   "cell_type": "code",
   "execution_count": 9,
   "metadata": {},
   "outputs": [],
   "source": [
    "from crewai_tools import SerperDevTool, ScrapeWebsiteTool, WebsiteSearchTool\n",
    "\n",
    "# several more tools available like Load Customer data, tap into previous conversations load data from CRM, checking existing reports/feature requests/tickets etc"
   ]
  },
  {
   "cell_type": "code",
   "execution_count": 10,
   "metadata": {},
   "outputs": [],
   "source": [
    "search_tool = SerperDevTool()\n",
    "scrap_tool = ScrapeWebsiteTool() # can be used to scrap any URL\n",
    "\n",
    "docs_scrap_tool = ScrapeWebsiteTool(        # can only be used to scrap from given url\n",
    "    website_url=\"https:\\\\docs.crewai.com/how-to/Creating-a-Crew-and-kick-it-off\"\n",
    ")"
   ]
  },
  {
   "cell_type": "code",
   "execution_count": 11,
   "metadata": {},
   "outputs": [],
   "source": [
    "# Two was to give agents tools. Can be done at Agent level or Task level."
   ]
  },
  {
   "cell_type": "code",
   "execution_count": 12,
   "metadata": {},
   "outputs": [],
   "source": [
    "inquiry_resolution = Task(\n",
    "    description=(\n",
    "        \"{customer} just reached out with a super important ask:\\n {inquiry}\\n\\n {person} from {customer} is\"\n",
    "        \"the one that reached out. Make sure to use everything you know to provide the best support possible.\"\n",
    "        \"You must strive to provide a complete and accurate response to the customer's inquiry.\"\n",
    "    ),\n",
    "    expected_output=(\n",
    "        \"A detailed, informative response to the constomer's inquiry that addresses all aspects of their question.\\n\"\n",
    "        \"The response should include references to everything you used to find the answer, including external \"\n",
    "        \"data or solutions. Ensure the answer is complete, leaving no questions unanswered, and maintain a \"\n",
    "        \"helpful and friendly tone throughout. \"\n",
    "    ),\n",
    "    tools=[docs_scrap_tool],\n",
    "    agent=support_agent,\n",
    ")"
   ]
  },
  {
   "cell_type": "code",
   "execution_count": 13,
   "metadata": {},
   "outputs": [],
   "source": [
    "quality_assurance_review = Task(\n",
    "    description=(\n",
    "        \"Review the response drafted by the Senior Support Representative. Ensure that the answer is comprehensive, \"\n",
    "        \"accurate and adheres high-quality standards expected for customer support.\\n Verify that all parts of the \"\n",
    "        \"customer's inquiry have been addressed thoroughly, with a helpful and friendly tone.\\n\"\n",
    "        \"Check for references and sources used to find the information, ensuring the response is well-supported \"\n",
    "        \"and leaves no questions unanswered.\"\n",
    "    ),\n",
    "    expected_output=(\n",
    "        \"A final, detailed and informative response ready to be sent to customer.\\n This response should fully \"\n",
    "        \"address the customer's inquiry, incorporating all relevant feedback and improvements.\\n Don't be too \"\n",
    "        \"formal, we are a chill and cool company but maintain a professional and friendly tone throughout.\"\n",
    "    ),\n",
    "    agent = support_quality_assurance_agent,\n",
    ")"
   ]
  },
  {
   "cell_type": "code",
   "execution_count": 15,
   "metadata": {},
   "outputs": [
    {
     "name": "stderr",
     "output_type": "stream",
     "text": [
      "2024-07-13 04:47:43,428 - 10620 - __init__.py-__init__:518 - WARNING: Overriding of current TracerProvider is not allowed\n"
     ]
    }
   ],
   "source": [
    "crew = Crew(\n",
    "    agents=[support_agent, support_quality_assurance_agent],\n",
    "    tasks=[inquiry_resolution, quality_assurance_review],\n",
    "    verbose=2,\n",
    "    memory=True  # makes all three memories availble to the crew. SHort term, long term and entity. \n",
    ")"
   ]
  },
  {
   "cell_type": "code",
   "execution_count": 16,
   "metadata": {},
   "outputs": [],
   "source": [
    "inputs = {\n",
    "    \"customer\":\"DeapLearningAI\",\n",
    "    \"person\":\"Andrew Ng\",\n",
    "    \"inquiry\":\"I need helpw with setting up a Crew and kicking it off, specifically how can I add memory to my crew? Can you provide guidance?\"\n",
    "}"
   ]
  },
  {
   "cell_type": "code",
   "execution_count": null,
   "metadata": {},
   "outputs": [],
   "source": [
    "result = crew.kickoff(inputs=inputs)"
   ]
  }
 ],
 "metadata": {
  "kernelspec": {
   "display_name": "Python 3",
   "language": "python",
   "name": "python3"
  },
  "language_info": {
   "codemirror_mode": {
    "name": "ipython",
    "version": 3
   },
   "file_extension": ".py",
   "mimetype": "text/x-python",
   "name": "python",
   "nbconvert_exporter": "python",
   "pygments_lexer": "ipython3",
   "version": "3.12.0"
  }
 },
 "nbformat": 4,
 "nbformat_minor": 2
}
